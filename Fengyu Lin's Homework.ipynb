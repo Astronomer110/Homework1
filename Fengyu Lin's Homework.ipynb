{
 "cells": [
  {
   "cell_type": "markdown",
   "metadata": {},
   "source": [
    "# Homework Assignment 1: Basic Python\n",
    "\n",
    "In this homework, we will review basic properties of python, specifically loops, conditionals, functions, and basic data structures.\n",
    "\n",
    "Homework Guidelines:\n",
    "\n",
    "1) Document your code! Only part of your score on the homework will be if you get the \"right\" answer. In order for us to understand what you've written, you need to have clearly written code. Documenting your code with comments (# sign) and spacing out your code (but not too much) makes it easier to read. You should also make use of the markdown feature of ipython notebooks for longer explanations or to imbed pictures/formulas. \n",
    "\n",
    "2) You may google around for tools for solving the homework problems (StackExchange will often pop up!) but DO NOT google the exact problem statement or copy blocks of code from elsewhere.\n",
    "\n",
    "3) You can work in small groups to complete assignments and share code within the small group. Please specify who you worked with if your submitted solutions are similar/identical.\n",
    "\n",
    "4) Various python packages have built in routines for common programming tasks. If you want to use an external (i.e. import X) package which isn't imported in the problem statement please ask the instructor first.\n",
    "\n",
    "5) Some problem statements might be vague or unspecific (like \"Explore the relationship between X and Y\"), just like real research questions! When in doubt it would be useful to provide plots and your observations."
   ]
  },
  {
   "cell_type": "markdown",
   "metadata": {},
   "source": [
    "# Problem 0: Precourse Survey (0 points)\n",
    "\n",
    "If you have not already done so, please complete the pre-course survey availabe here:\n",
    "    https://forms.gle/n7FEdGT8tW9JNhog6"
   ]
  },
  {
   "cell_type": "markdown",
   "metadata": {},
   "source": [
    "# Problem 1: Using git (5 points)\n",
    "\n",
    "Over the course of this homework assignment, make at least 4 commits with informative commit messages. Remember that we can see the messages!"
   ]
  },
  {
   "cell_type": "markdown",
   "metadata": {},
   "source": [
    "# Problem 2: Largest Prime Factor (15 points)\n",
    "\n",
    "The prime factors of a number are the list of prime numbers who's product is equal to that number. I.e. 728 -> 2 2 2 7 13.\n",
    "\n",
    "a) Write a function which lists the prime factors of a number.\n",
    "\n",
    "b) What is the largest prime factor of 10,030,508,582,493?"
   ]
  },
  {
   "cell_type": "code",
   "execution_count": 6,
   "metadata": {},
   "outputs": [
    {
     "data": {
      "text/plain": [
       "'Its prime factor is: [2, 5]Its biggest prime factor is: 5'"
      ]
     },
     "execution_count": 6,
     "metadata": {},
     "output_type": "execute_result"
    }
   ],
   "source": [
    "def PrimeFactor(n):\n",
    "    j=[]\n",
    "    i=2\n",
    "    while n!=1:\n",
    "        if n%i==0:\n",
    "            j.append(i)\n",
    "            n=n/i\n",
    "        else:\n",
    "            i=i+1\n",
    "    a=max(j)\n",
    "    return(\"Its prime factor is: \"+str(j)+\"Its biggest prime factor is: \"+str(a))"
   ]
  },
  {
   "cell_type": "code",
   "execution_count": 10,
   "metadata": {},
   "outputs": [
    {
     "name": "stdout",
     "output_type": "stream",
     "text": [
      "Its prime factor is: [2, 5]Its biggest prime factor is: 5\n"
     ]
    }
   ],
   "source": [
    "print(PrimeFactor(10))"
   ]
  },
  {
   "cell_type": "code",
   "execution_count": 11,
   "metadata": {},
   "outputs": [
    {
     "name": "stdout",
     "output_type": "stream",
     "text": [
      "Its prime factor is: [2, 3, 5]Its biggest prime factor is: 5\n"
     ]
    }
   ],
   "source": [
    "print(PrimeFactor(30))"
   ]
  },
  {
   "cell_type": "code",
   "execution_count": 12,
   "metadata": {},
   "outputs": [
    {
     "name": "stdout",
     "output_type": "stream",
     "text": [
      "Its prime factor is: [2, 2, 127]Its biggest prime factor is: 127\n"
     ]
    }
   ],
   "source": [
    "print(PrimeFactor(508))"
   ]
  },
  {
   "cell_type": "code",
   "execution_count": 13,
   "metadata": {},
   "outputs": [
    {
     "name": "stdout",
     "output_type": "stream",
     "text": [
      "Its prime factor is: [2, 3, 97]Its biggest prime factor is: 97\n"
     ]
    }
   ],
   "source": [
    "print(PrimeFactor(582))"
   ]
  },
  {
   "cell_type": "code",
   "execution_count": 14,
   "metadata": {},
   "outputs": [
    {
     "name": "stdout",
     "output_type": "stream",
     "text": [
      "Its prime factor is: [17, 29]Its biggest prime factor is: 29\n"
     ]
    }
   ],
   "source": [
    "print(PrimeFactor(493))"
   ]
  },
  {
   "cell_type": "markdown",
   "metadata": {},
   "source": [
    "# Problem 3: Division of Factorial Recursive Calculator (15 points)\n",
    "\n",
    "A common mathematical calculation that emerges in the field of combinatorics is the ratio of a two factorials, i.e.\n",
    "$$ \\frac{a!}{b!} = \\frac{a!}{(a-n)!}$$.\n",
    "\n",
    "a) Write a recursive program which will calculate this ratio for a given positive integer $a$ and $n$ (where $n<a$). Remember that a recursive function must call itself if a condition isn't met.\n",
    "\n",
    "b) What is the value for $a=10000$ and $n=13$?\n",
    "\n",
    "c) What is the value for $a=89$ and $n=40$?"
   ]
  },
  {
   "cell_type": "code",
   "execution_count": 1,
   "metadata": {},
   "outputs": [],
   "source": [
    "#a)\n",
    "def division_of_factorial(a,n):\n",
    "    if n>0:\n",
    "        return a*division_of_factorial((a-1),(n-1))\n",
    "    else:\n",
    "        return 1"
   ]
  },
  {
   "cell_type": "code",
   "execution_count": 3,
   "metadata": {},
   "outputs": [
    {
     "data": {
      "text/plain": [
       "9922271143048770786296305556545382530912502016000000"
      ]
     },
     "execution_count": 3,
     "metadata": {},
     "output_type": "execute_result"
    }
   ],
   "source": [
    "division_of_factorial(10000,13)"
   ]
  },
  {
   "cell_type": "code",
   "execution_count": 4,
   "metadata": {},
   "outputs": [
    {
     "data": {
      "text/plain": [
       "27138660770557652810885765771467644902728921884082712250490552320000000000"
      ]
     },
     "execution_count": 4,
     "metadata": {},
     "output_type": "execute_result"
    }
   ],
   "source": [
    "division_of_factorial(89,40)"
   ]
  },
  {
   "cell_type": "markdown",
   "metadata": {},
   "source": [
    "# Problem 4: Largest Palindrome (15 points)\n",
    "\n",
    "\n",
    "A palindrome remains identical when its characters are reversed order. For example, 101 is a palindrome, as is 9339, and 1029201, and 165090561. All of these numbers, when read in reversed order, remain unchanged. In this problem, we will search for the largest palindrome that is also a product of two numbers. For example, the largest palindrome made from the product of two 2-digit numbers is 9009 = 91 × 99.\n",
    "\n",
    "a) What is the largest palidrome that comes from the product of three 2-digit numbers?\n",
    "\n",
    "b) What is the largest palidrome that comes from the product of two 3-digit numbers?"
   ]
  },
  {
   "cell_type": "code",
   "execution_count": 9,
   "metadata": {},
   "outputs": [
    {
     "name": "stdout",
     "output_type": "stream",
     "text": [
      "The three numbers that can generate the largest palimpsest is:99 and 92 and 91.The largest palimpsest is:828828.\n"
     ]
    }
   ],
   "source": [
    "def palimpsestBigest():\n",
    "    j=[]\n",
    "    for h in range(10,100):\n",
    "        for b in range(10,100):\n",
    "            for a in range(10,100):\n",
    "                d=a*b*h\n",
    "                g=str(d)\n",
    "                c = list(map(int,g))\n",
    "                e=len(c)\n",
    "                f=0\n",
    "                if e%2==0:\n",
    "                    for i in range(0,e):\n",
    "                        if c[i]!=c[e-1-i]:\n",
    "                            break\n",
    "                        else:\n",
    "                            f=f+1\n",
    "                    if f==e:\n",
    "                        j.append(d)\n",
    "                else:\n",
    "                    for i in range(0,e):\n",
    "                        if i!=(e-1)/2:\n",
    "                            if c[i]!=c[e-1-i]:\n",
    "                                break\n",
    "                            else:\n",
    "                                f=f+1\n",
    "                        else:\n",
    "                            pass\n",
    "                        if f==e-1:\n",
    "                            j.append(d)\n",
    "    k=max(j)\n",
    "    for h in range(10,100):\n",
    "        for b in range(10,100):\n",
    "            for a in range(10,100):\n",
    "                if a*b*h==k:\n",
    "                    return(\"The three numbers that can generate the largest palimpsest is:\"+str(a)+\" and \"+str(b)+\" and \"+str(h)+\".\"+\"The largest palimpsest is:\"+str(k)+\".\")\n",
    "print(palimpsestBigest())"
   ]
  },
  {
   "cell_type": "code",
   "execution_count": 10,
   "metadata": {},
   "outputs": [
    {
     "name": "stdout",
     "output_type": "stream",
     "text": [
      "The two numbers that can generate the largest palimpsest is:913 and 993.The largest palimpsest is:906609.\n"
     ]
    }
   ],
   "source": [
    "def palimpsestBiggest():\n",
    "    j=[]\n",
    "    for b in range(100,1000):\n",
    "        for a in range(100,1000):\n",
    "            d=a*b\n",
    "            g=str(d)\n",
    "            c = list(map(int,g))\n",
    "            e=len(c)\n",
    "            f=0\n",
    "            if e%2==0:\n",
    "                for i in range(0,e):\n",
    "                    if c[i]!=c[e-1-i]:\n",
    "                        break\n",
    "                    else:\n",
    "                        f=f+1\n",
    "                if f==e:\n",
    "                    j.append(d)\n",
    "            else:\n",
    "                for i in range(0,e):\n",
    "                    if i!=(e-1)/2:\n",
    "                        if c[i]!=c[e-1-i]:\n",
    "                            break\n",
    "                        else:\n",
    "                            f=f+1\n",
    "                    else:\n",
    "                        pass\n",
    "                    if f==e-1:\n",
    "                        j.append(d)\n",
    "    k=max(j)\n",
    "    for l in range(100,1000):\n",
    "        for m in range(100,1000):\n",
    "            if l*m==k:\n",
    "                return(\"The two numbers that can generate the largest palimpsest is:\"+str(l)+\" and \"+str(m)+\".\"+\"The largest palimpsest is:\"+str(k)+\".\")\n",
    "print(palimpsestBiggest())       \n",
    "            \n",
    "                \n",
    "                    "
   ]
  }
 ],
 "metadata": {
  "kernelspec": {
   "display_name": "Python 3",
   "language": "python",
   "name": "python3"
  },
  "language_info": {
   "codemirror_mode": {
    "name": "ipython",
    "version": 3
   },
   "file_extension": ".py",
   "mimetype": "text/x-python",
   "name": "python",
   "nbconvert_exporter": "python",
   "pygments_lexer": "ipython3",
   "version": "3.7.4"
  }
 },
 "nbformat": 4,
 "nbformat_minor": 2
}
